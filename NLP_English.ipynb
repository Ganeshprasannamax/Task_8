{
  "cells": [
    {
      "cell_type": "markdown",
      "metadata": {
        "id": "view-in-github",
        "colab_type": "text"
      },
      "source": [
        "<a href=\"https://colab.research.google.com/github/Ganeshprasannamax/Task_8/blob/main/NLP_English.ipynb\" target=\"_parent\"><img src=\"https://colab.research.google.com/assets/colab-badge.svg\" alt=\"Open In Colab\"/></a>"
      ]
    },
    {
      "cell_type": "code",
      "execution_count": 12,
      "id": "10b6b148",
      "metadata": {
        "id": "10b6b148"
      },
      "outputs": [],
      "source": [
        "import pandas as pd\n"
      ]
    },
    {
      "cell_type": "code",
      "source": [
        "df=pd.read_csv(\"English.csv\")\n"
      ],
      "metadata": {
        "id": "MGXYH4WWV8Il"
      },
      "id": "MGXYH4WWV8Il",
      "execution_count": 13,
      "outputs": []
    },
    {
      "cell_type": "code",
      "source": [
        "df.head()"
      ],
      "metadata": {
        "colab": {
          "base_uri": "https://localhost:8080/",
          "height": 206
        },
        "id": "uGGe50WAV9PH",
        "outputId": "5a466a89-474b-4ffa-a5f3-0165067f3526"
      },
      "id": "uGGe50WAV9PH",
      "execution_count": 14,
      "outputs": [
        {
          "output_type": "execute_result",
          "data": {
            "text/plain": [
              "  English words/sentences\n",
              "0                     Hi.\n",
              "1                    Run!\n",
              "2                    Run!\n",
              "3                    Who?\n",
              "4                    Wow!"
            ],
            "text/html": [
              "\n",
              "  <div id=\"df-6532cd09-6b5d-4354-8467-68882c8ac593\">\n",
              "    <div class=\"colab-df-container\">\n",
              "      <div>\n",
              "<style scoped>\n",
              "    .dataframe tbody tr th:only-of-type {\n",
              "        vertical-align: middle;\n",
              "    }\n",
              "\n",
              "    .dataframe tbody tr th {\n",
              "        vertical-align: top;\n",
              "    }\n",
              "\n",
              "    .dataframe thead th {\n",
              "        text-align: right;\n",
              "    }\n",
              "</style>\n",
              "<table border=\"1\" class=\"dataframe\">\n",
              "  <thead>\n",
              "    <tr style=\"text-align: right;\">\n",
              "      <th></th>\n",
              "      <th>English words/sentences</th>\n",
              "    </tr>\n",
              "  </thead>\n",
              "  <tbody>\n",
              "    <tr>\n",
              "      <th>0</th>\n",
              "      <td>Hi.</td>\n",
              "    </tr>\n",
              "    <tr>\n",
              "      <th>1</th>\n",
              "      <td>Run!</td>\n",
              "    </tr>\n",
              "    <tr>\n",
              "      <th>2</th>\n",
              "      <td>Run!</td>\n",
              "    </tr>\n",
              "    <tr>\n",
              "      <th>3</th>\n",
              "      <td>Who?</td>\n",
              "    </tr>\n",
              "    <tr>\n",
              "      <th>4</th>\n",
              "      <td>Wow!</td>\n",
              "    </tr>\n",
              "  </tbody>\n",
              "</table>\n",
              "</div>\n",
              "      <button class=\"colab-df-convert\" onclick=\"convertToInteractive('df-6532cd09-6b5d-4354-8467-68882c8ac593')\"\n",
              "              title=\"Convert this dataframe to an interactive table.\"\n",
              "              style=\"display:none;\">\n",
              "        \n",
              "  <svg xmlns=\"http://www.w3.org/2000/svg\" height=\"24px\"viewBox=\"0 0 24 24\"\n",
              "       width=\"24px\">\n",
              "    <path d=\"M0 0h24v24H0V0z\" fill=\"none\"/>\n",
              "    <path d=\"M18.56 5.44l.94 2.06.94-2.06 2.06-.94-2.06-.94-.94-2.06-.94 2.06-2.06.94zm-11 1L8.5 8.5l.94-2.06 2.06-.94-2.06-.94L8.5 2.5l-.94 2.06-2.06.94zm10 10l.94 2.06.94-2.06 2.06-.94-2.06-.94-.94-2.06-.94 2.06-2.06.94z\"/><path d=\"M17.41 7.96l-1.37-1.37c-.4-.4-.92-.59-1.43-.59-.52 0-1.04.2-1.43.59L10.3 9.45l-7.72 7.72c-.78.78-.78 2.05 0 2.83L4 21.41c.39.39.9.59 1.41.59.51 0 1.02-.2 1.41-.59l7.78-7.78 2.81-2.81c.8-.78.8-2.07 0-2.86zM5.41 20L4 18.59l7.72-7.72 1.47 1.35L5.41 20z\"/>\n",
              "  </svg>\n",
              "      </button>\n",
              "      \n",
              "  <style>\n",
              "    .colab-df-container {\n",
              "      display:flex;\n",
              "      flex-wrap:wrap;\n",
              "      gap: 12px;\n",
              "    }\n",
              "\n",
              "    .colab-df-convert {\n",
              "      background-color: #E8F0FE;\n",
              "      border: none;\n",
              "      border-radius: 50%;\n",
              "      cursor: pointer;\n",
              "      display: none;\n",
              "      fill: #1967D2;\n",
              "      height: 32px;\n",
              "      padding: 0 0 0 0;\n",
              "      width: 32px;\n",
              "    }\n",
              "\n",
              "    .colab-df-convert:hover {\n",
              "      background-color: #E2EBFA;\n",
              "      box-shadow: 0px 1px 2px rgba(60, 64, 67, 0.3), 0px 1px 3px 1px rgba(60, 64, 67, 0.15);\n",
              "      fill: #174EA6;\n",
              "    }\n",
              "\n",
              "    [theme=dark] .colab-df-convert {\n",
              "      background-color: #3B4455;\n",
              "      fill: #D2E3FC;\n",
              "    }\n",
              "\n",
              "    [theme=dark] .colab-df-convert:hover {\n",
              "      background-color: #434B5C;\n",
              "      box-shadow: 0px 1px 3px 1px rgba(0, 0, 0, 0.15);\n",
              "      filter: drop-shadow(0px 1px 2px rgba(0, 0, 0, 0.3));\n",
              "      fill: #FFFFFF;\n",
              "    }\n",
              "  </style>\n",
              "\n",
              "      <script>\n",
              "        const buttonEl =\n",
              "          document.querySelector('#df-6532cd09-6b5d-4354-8467-68882c8ac593 button.colab-df-convert');\n",
              "        buttonEl.style.display =\n",
              "          google.colab.kernel.accessAllowed ? 'block' : 'none';\n",
              "\n",
              "        async function convertToInteractive(key) {\n",
              "          const element = document.querySelector('#df-6532cd09-6b5d-4354-8467-68882c8ac593');\n",
              "          const dataTable =\n",
              "            await google.colab.kernel.invokeFunction('convertToInteractive',\n",
              "                                                     [key], {});\n",
              "          if (!dataTable) return;\n",
              "\n",
              "          const docLinkHtml = 'Like what you see? Visit the ' +\n",
              "            '<a target=\"_blank\" href=https://colab.research.google.com/notebooks/data_table.ipynb>data table notebook</a>'\n",
              "            + ' to learn more about interactive tables.';\n",
              "          element.innerHTML = '';\n",
              "          dataTable['output_type'] = 'display_data';\n",
              "          await google.colab.output.renderOutput(dataTable, element);\n",
              "          const docLink = document.createElement('div');\n",
              "          docLink.innerHTML = docLinkHtml;\n",
              "          element.appendChild(docLink);\n",
              "        }\n",
              "      </script>\n",
              "    </div>\n",
              "  </div>\n",
              "  "
            ]
          },
          "metadata": {},
          "execution_count": 14
        }
      ]
    },
    {
      "cell_type": "code",
      "execution_count": 2,
      "id": "b9a250cd",
      "metadata": {
        "id": "b9a250cd",
        "colab": {
          "base_uri": "https://localhost:8080/"
        },
        "outputId": "c6412342-4fcf-4b04-ccf0-695ca18d612c"
      },
      "outputs": [
        {
          "output_type": "execute_result",
          "data": {
            "text/plain": [
              "(175621, 1)"
            ]
          },
          "metadata": {},
          "execution_count": 2
        }
      ],
      "source": [
        "df.shape"
      ]
    },
    {
      "cell_type": "code",
      "execution_count": 3,
      "id": "8f2c7ce1",
      "metadata": {
        "id": "8f2c7ce1"
      },
      "outputs": [],
      "source": [
        "df.drop_duplicates(keep=False,inplace=True)"
      ]
    },
    {
      "cell_type": "code",
      "execution_count": 4,
      "id": "6cd64151",
      "metadata": {
        "scrolled": true,
        "id": "6cd64151",
        "colab": {
          "base_uri": "https://localhost:8080/"
        },
        "outputId": "7544131f-4f52-4569-fbe0-c7ca5fbd99c4"
      },
      "outputs": [
        {
          "output_type": "execute_result",
          "data": {
            "text/plain": [
              "(87677, 1)"
            ]
          },
          "metadata": {},
          "execution_count": 4
        }
      ],
      "source": [
        "df.shape"
      ]
    },
    {
      "cell_type": "code",
      "execution_count": 5,
      "id": "f869af67",
      "metadata": {
        "scrolled": true,
        "id": "f869af67",
        "colab": {
          "base_uri": "https://localhost:8080/"
        },
        "outputId": "c8a2937b-e485-4bd8-84e0-7d21059c1a79"
      },
      "outputs": [
        {
          "output_type": "execute_result",
          "data": {
            "text/plain": [
              "array(['Hi.', 'Who?', 'Wow!', ...,\n",
              "       \"Death is something that we're often discouraged to talk about or even think about, but I've realized that preparing for death is one of the most empowering things you can do. Thinking about death clarifies your life.\",\n",
              "       'Since there are usually multiple websites on any given topic, I usually just click the back button when I arrive on any webpage that has pop-up advertising. I just go to the next page found by Google and hope for something less irritating.',\n",
              "       \"If someone who doesn't know your background says that you sound like a native speaker, it means they probably noticed something about your speaking that made them realize you weren't a native speaker. In other words, you don't really sound like a native speaker.\"],\n",
              "      dtype=object)"
            ]
          },
          "metadata": {},
          "execution_count": 5
        }
      ],
      "source": [
        "df[\"English words/sentences\"].unique()"
      ]
    },
    {
      "cell_type": "code",
      "execution_count": 15,
      "id": "92574fed",
      "metadata": {
        "id": "92574fed",
        "colab": {
          "base_uri": "https://localhost:8080/",
          "height": 206
        },
        "outputId": "c5879d57-87d3-4729-b633-4b994a699c60"
      },
      "outputs": [
        {
          "output_type": "execute_result",
          "data": {
            "text/plain": [
              "                                  English words/sentences\n",
              "175616  Top-down economics never works, said Obama. \"T...\n",
              "175617  A carbon footprint is the amount of carbon dio...\n",
              "175618  Death is something that we're often discourage...\n",
              "175619  Since there are usually multiple websites on a...\n",
              "175620  If someone who doesn't know your background sa..."
            ],
            "text/html": [
              "\n",
              "  <div id=\"df-95fcc5d9-0208-4abc-9490-8b8e12642c65\">\n",
              "    <div class=\"colab-df-container\">\n",
              "      <div>\n",
              "<style scoped>\n",
              "    .dataframe tbody tr th:only-of-type {\n",
              "        vertical-align: middle;\n",
              "    }\n",
              "\n",
              "    .dataframe tbody tr th {\n",
              "        vertical-align: top;\n",
              "    }\n",
              "\n",
              "    .dataframe thead th {\n",
              "        text-align: right;\n",
              "    }\n",
              "</style>\n",
              "<table border=\"1\" class=\"dataframe\">\n",
              "  <thead>\n",
              "    <tr style=\"text-align: right;\">\n",
              "      <th></th>\n",
              "      <th>English words/sentences</th>\n",
              "    </tr>\n",
              "  </thead>\n",
              "  <tbody>\n",
              "    <tr>\n",
              "      <th>175616</th>\n",
              "      <td>Top-down economics never works, said Obama. \"T...</td>\n",
              "    </tr>\n",
              "    <tr>\n",
              "      <th>175617</th>\n",
              "      <td>A carbon footprint is the amount of carbon dio...</td>\n",
              "    </tr>\n",
              "    <tr>\n",
              "      <th>175618</th>\n",
              "      <td>Death is something that we're often discourage...</td>\n",
              "    </tr>\n",
              "    <tr>\n",
              "      <th>175619</th>\n",
              "      <td>Since there are usually multiple websites on a...</td>\n",
              "    </tr>\n",
              "    <tr>\n",
              "      <th>175620</th>\n",
              "      <td>If someone who doesn't know your background sa...</td>\n",
              "    </tr>\n",
              "  </tbody>\n",
              "</table>\n",
              "</div>\n",
              "      <button class=\"colab-df-convert\" onclick=\"convertToInteractive('df-95fcc5d9-0208-4abc-9490-8b8e12642c65')\"\n",
              "              title=\"Convert this dataframe to an interactive table.\"\n",
              "              style=\"display:none;\">\n",
              "        \n",
              "  <svg xmlns=\"http://www.w3.org/2000/svg\" height=\"24px\"viewBox=\"0 0 24 24\"\n",
              "       width=\"24px\">\n",
              "    <path d=\"M0 0h24v24H0V0z\" fill=\"none\"/>\n",
              "    <path d=\"M18.56 5.44l.94 2.06.94-2.06 2.06-.94-2.06-.94-.94-2.06-.94 2.06-2.06.94zm-11 1L8.5 8.5l.94-2.06 2.06-.94-2.06-.94L8.5 2.5l-.94 2.06-2.06.94zm10 10l.94 2.06.94-2.06 2.06-.94-2.06-.94-.94-2.06-.94 2.06-2.06.94z\"/><path d=\"M17.41 7.96l-1.37-1.37c-.4-.4-.92-.59-1.43-.59-.52 0-1.04.2-1.43.59L10.3 9.45l-7.72 7.72c-.78.78-.78 2.05 0 2.83L4 21.41c.39.39.9.59 1.41.59.51 0 1.02-.2 1.41-.59l7.78-7.78 2.81-2.81c.8-.78.8-2.07 0-2.86zM5.41 20L4 18.59l7.72-7.72 1.47 1.35L5.41 20z\"/>\n",
              "  </svg>\n",
              "      </button>\n",
              "      \n",
              "  <style>\n",
              "    .colab-df-container {\n",
              "      display:flex;\n",
              "      flex-wrap:wrap;\n",
              "      gap: 12px;\n",
              "    }\n",
              "\n",
              "    .colab-df-convert {\n",
              "      background-color: #E8F0FE;\n",
              "      border: none;\n",
              "      border-radius: 50%;\n",
              "      cursor: pointer;\n",
              "      display: none;\n",
              "      fill: #1967D2;\n",
              "      height: 32px;\n",
              "      padding: 0 0 0 0;\n",
              "      width: 32px;\n",
              "    }\n",
              "\n",
              "    .colab-df-convert:hover {\n",
              "      background-color: #E2EBFA;\n",
              "      box-shadow: 0px 1px 2px rgba(60, 64, 67, 0.3), 0px 1px 3px 1px rgba(60, 64, 67, 0.15);\n",
              "      fill: #174EA6;\n",
              "    }\n",
              "\n",
              "    [theme=dark] .colab-df-convert {\n",
              "      background-color: #3B4455;\n",
              "      fill: #D2E3FC;\n",
              "    }\n",
              "\n",
              "    [theme=dark] .colab-df-convert:hover {\n",
              "      background-color: #434B5C;\n",
              "      box-shadow: 0px 1px 3px 1px rgba(0, 0, 0, 0.15);\n",
              "      filter: drop-shadow(0px 1px 2px rgba(0, 0, 0, 0.3));\n",
              "      fill: #FFFFFF;\n",
              "    }\n",
              "  </style>\n",
              "\n",
              "      <script>\n",
              "        const buttonEl =\n",
              "          document.querySelector('#df-95fcc5d9-0208-4abc-9490-8b8e12642c65 button.colab-df-convert');\n",
              "        buttonEl.style.display =\n",
              "          google.colab.kernel.accessAllowed ? 'block' : 'none';\n",
              "\n",
              "        async function convertToInteractive(key) {\n",
              "          const element = document.querySelector('#df-95fcc5d9-0208-4abc-9490-8b8e12642c65');\n",
              "          const dataTable =\n",
              "            await google.colab.kernel.invokeFunction('convertToInteractive',\n",
              "                                                     [key], {});\n",
              "          if (!dataTable) return;\n",
              "\n",
              "          const docLinkHtml = 'Like what you see? Visit the ' +\n",
              "            '<a target=\"_blank\" href=https://colab.research.google.com/notebooks/data_table.ipynb>data table notebook</a>'\n",
              "            + ' to learn more about interactive tables.';\n",
              "          element.innerHTML = '';\n",
              "          dataTable['output_type'] = 'display_data';\n",
              "          await google.colab.output.renderOutput(dataTable, element);\n",
              "          const docLink = document.createElement('div');\n",
              "          docLink.innerHTML = docLinkHtml;\n",
              "          element.appendChild(docLink);\n",
              "        }\n",
              "      </script>\n",
              "    </div>\n",
              "  </div>\n",
              "  "
            ]
          },
          "metadata": {},
          "execution_count": 15
        }
      ],
      "source": [
        "df.tail()"
      ]
    },
    {
      "cell_type": "code",
      "execution_count": 7,
      "id": "39a6c769",
      "metadata": {
        "scrolled": false,
        "id": "39a6c769",
        "colab": {
          "base_uri": "https://localhost:8080/"
        },
        "outputId": "f19f307f-1656-4009-d177-c3ede04fb331"
      },
      "outputs": [
        {
          "output_type": "execute_result",
          "data": {
            "text/plain": [
              "English words/sentences    0\n",
              "dtype: int64"
            ]
          },
          "metadata": {},
          "execution_count": 7
        }
      ],
      "source": [
        "df.isnull().sum()"
      ]
    },
    {
      "cell_type": "code",
      "execution_count": 8,
      "id": "a8c5deb4",
      "metadata": {
        "id": "a8c5deb4"
      },
      "outputs": [],
      "source": [
        "df1=df.copy()"
      ]
    },
    {
      "cell_type": "markdown",
      "id": "4aeed4f6",
      "metadata": {
        "id": "4aeed4f6"
      },
      "source": [
        "# Task 1"
      ]
    },
    {
      "cell_type": "code",
      "execution_count": 17,
      "id": "ce13c47e",
      "metadata": {
        "id": "ce13c47e",
        "colab": {
          "base_uri": "https://localhost:8080/",
          "height": 310
        },
        "outputId": "07189a86-75a8-40ca-ea72-0af7b93d6bd7"
      },
      "outputs": [
        {
          "output_type": "error",
          "ename": "ModuleNotFoundError",
          "evalue": "ignored",
          "traceback": [
            "\u001b[0;31m---------------------------------------------------------------------------\u001b[0m",
            "\u001b[0;31mModuleNotFoundError\u001b[0m                       Traceback (most recent call last)",
            "\u001b[0;32m<ipython-input-17-c76bcb7d023a>\u001b[0m in \u001b[0;36m<module>\u001b[0;34m\u001b[0m\n\u001b[0;32m----> 1\u001b[0;31m \u001b[0;32mfrom\u001b[0m \u001b[0mgoogletrans\u001b[0m \u001b[0;32mimport\u001b[0m \u001b[0mTranslator\u001b[0m\u001b[0;34m\u001b[0m\u001b[0;34m\u001b[0m\u001b[0m\n\u001b[0m",
            "\u001b[0;31mModuleNotFoundError\u001b[0m: No module named 'googletrans'",
            "",
            "\u001b[0;31m---------------------------------------------------------------------------\u001b[0;32m\nNOTE: If your import is failing due to a missing package, you can\nmanually install dependencies using either !pip or !apt.\n\nTo view examples of installing some common dependencies, click the\n\"Open Examples\" button below.\n\u001b[0;31m---------------------------------------------------------------------------\u001b[0m\n"
          ],
          "errorDetails": {
            "actions": [
              {
                "action": "open_url",
                "actionText": "Open Examples",
                "url": "/notebooks/snippets/importing_libraries.ipynb"
              }
            ]
          }
        }
      ],
      "source": [
        "from googletrans import Translator\n"
      ]
    },
    {
      "cell_type": "code",
      "execution_count": null,
      "id": "1beb7bc9",
      "metadata": {
        "id": "1beb7bc9"
      },
      "outputs": [],
      "source": [
        "#Translate from english to spanish\n",
        "def translator(x):\n",
        "    t=Translator()\n",
        "    trans=t.translate(x,dest=\"es\")\n",
        "    return trans.text"
      ]
    },
    {
      "cell_type": "code",
      "execution_count": null,
      "id": "531a4d8e",
      "metadata": {
        "id": "531a4d8e"
      },
      "outputs": [],
      "source": [
        "#Translate from english to german\n",
        "def translato(x):\n",
        "    t=Translator()\n",
        "    trans=t.translate(x,dest=\"german\")\n",
        "    return trans.text"
      ]
    },
    {
      "cell_type": "code",
      "execution_count": null,
      "id": "3014cd13",
      "metadata": {
        "id": "3014cd13"
      },
      "outputs": [],
      "source": [
        "#Translate from english to french\n",
        "def translators(x):\n",
        "    t=Translator()\n",
        "    trans=t.translate(x,dest=\"french\")\n",
        "    return trans.text"
      ]
    },
    {
      "cell_type": "code",
      "execution_count": null,
      "id": "90b4b166",
      "metadata": {
        "id": "90b4b166"
      },
      "outputs": [],
      "source": [
        "words=df[\"English words/sentences\"].head(100)#top 100 datapoint is for words to perform the translation\n",
        "#if we do for all the datapoint it occur a error called timedout \n",
        "sentence=df[\"English words/sentences\"].tail(100)#bottom 100 is the sentence datapoint to perform the translation"
      ]
    },
    {
      "cell_type": "code",
      "execution_count": null,
      "id": "ba941075",
      "metadata": {
        "id": "ba941075"
      },
      "outputs": [],
      "source": [
        "#creating two empty dataframe\n",
        "df2=pd.DataFrame()\n",
        "df3=pd.DataFrame()"
      ]
    },
    {
      "cell_type": "code",
      "execution_count": null,
      "id": "1f755e72",
      "metadata": {
        "id": "1f755e72"
      },
      "outputs": [],
      "source": [
        "#updating the two dataframe with the values of df\n",
        "df2[\"English words/sentences\"]=df[\"English words/sentences\"].head(100)\n",
        "df3[\"English words/sentences\"]=df[\"English words/sentences\"].tail(100)"
      ]
    },
    {
      "cell_type": "code",
      "execution_count": null,
      "id": "bac3254b",
      "metadata": {
        "id": "bac3254b"
      },
      "outputs": [],
      "source": [
        "#using apply function to perform the operation of translation\n",
        "df2[\"spanish words/sentences\"]=words.apply(translator)\n",
        "df3[\"spanish words/sentences\"]=sentence.apply(translator)"
      ]
    },
    {
      "cell_type": "code",
      "execution_count": null,
      "id": "4cd358dc",
      "metadata": {
        "id": "4cd358dc"
      },
      "outputs": [],
      "source": [
        "#using apply function to perform the operation of translation\n",
        "df2[\"french words/sentences\"]=words.apply(translators)\n",
        "df3[\"french words/sentences\"]=sentence.apply(translators)"
      ]
    },
    {
      "cell_type": "code",
      "execution_count": null,
      "id": "94dd89fb",
      "metadata": {
        "id": "94dd89fb"
      },
      "outputs": [],
      "source": [
        "#using apply function to perform the operation of translation\n",
        "df2[\"german words/sentences\"]=words.apply(translato)\n",
        "df3[\"german words/sentences\"]=sentence.apply(translato)"
      ]
    },
    {
      "cell_type": "code",
      "execution_count": null,
      "id": "216618e8",
      "metadata": {
        "id": "216618e8"
      },
      "outputs": [],
      "source": [
        "language=pd.concat([df2,df3],axis=0)#then concatention the two different dataframe"
      ]
    },
    {
      "cell_type": "code",
      "execution_count": null,
      "id": "60c2c0d3",
      "metadata": {
        "scrolled": true,
        "id": "60c2c0d3"
      },
      "outputs": [],
      "source": [
        "language.head()#seeing the concat dataframe"
      ]
    },
    {
      "cell_type": "markdown",
      "id": "f8f342ba",
      "metadata": {
        "id": "f8f342ba"
      },
      "source": [
        "## Conclusion"
      ]
    },
    {
      "cell_type": "markdown",
      "id": "418af4c4",
      "metadata": {
        "id": "418af4c4"
      },
      "source": [
        "### Translation of english to any other language can be done using google translator"
      ]
    },
    {
      "cell_type": "markdown",
      "id": "531db229",
      "metadata": {
        "id": "531db229"
      },
      "source": [
        "# Task 2"
      ]
    },
    {
      "cell_type": "code",
      "execution_count": null,
      "id": "9d5c6bd4",
      "metadata": {
        "id": "9d5c6bd4"
      },
      "outputs": [],
      "source": [
        "from textblob import TextBlob#library"
      ]
    },
    {
      "cell_type": "code",
      "execution_count": null,
      "id": "2ebcd11a",
      "metadata": {
        "id": "2ebcd11a"
      },
      "outputs": [],
      "source": [
        "#function for correcting the spelling \n",
        "def correction(x):\n",
        "    def convert(x):\n",
        "        li=list(x.split(\" \"))\n",
        "        return li\n",
        "    words=convert(x)\n",
        "    #return words\n",
        "    corrected_words=[]\n",
        "    for i in words:\n",
        "        corrected_words.append(TextBlob(i))\n",
        "    for i in corrected_words:\n",
        "        return \"\".join(i.correct())"
      ]
    },
    {
      "cell_type": "code",
      "execution_count": null,
      "id": "7657cab3",
      "metadata": {
        "id": "7657cab3"
      },
      "outputs": [],
      "source": [
        "words=df[\"English words/sentences\"].head(100)#top 100 datapoints for words\n",
        "sentence=df[\"English words/sentences\"].tail(100)#bottom 100 datapoints for sentence"
      ]
    },
    {
      "cell_type": "code",
      "execution_count": null,
      "id": "c7cd4a87",
      "metadata": {
        "id": "c7cd4a87"
      },
      "outputs": [],
      "source": [
        "#creating the empty dataframe\n",
        "df4=pd.DataFrame()\n",
        "df5=pd.DataFrame()"
      ]
    },
    {
      "cell_type": "code",
      "execution_count": null,
      "id": "a7ff6b1e",
      "metadata": {
        "id": "a7ff6b1e"
      },
      "outputs": [],
      "source": [
        "#updating the two dataframe with the values of df\n",
        "df4[\"English words/sentences\"]=df[\"English words/sentences\"].head(100)\n",
        "df5[\"English words/sentences\"]=df[\"English words/sentences\"].tail(100)"
      ]
    },
    {
      "cell_type": "code",
      "execution_count": null,
      "id": "6e4f4610",
      "metadata": {
        "id": "6e4f4610"
      },
      "outputs": [],
      "source": [
        "#using apply function to perform the operation of translation\n",
        "df4[\"spelling words/sentences\"]=df[\"English words/sentences\"].apply(correction)\n",
        "df5[\"spelling words/sentences\"]=df[\"English words/sentences\"].apply(correction)"
      ]
    },
    {
      "cell_type": "code",
      "execution_count": null,
      "id": "6d4ddec8",
      "metadata": {
        "id": "6d4ddec8"
      },
      "outputs": [],
      "source": [
        "spell_correction=pd.concat([df4,df5],axis=0)#concat the dataframe "
      ]
    },
    {
      "cell_type": "code",
      "execution_count": null,
      "id": "8b1a744d",
      "metadata": {
        "scrolled": false,
        "id": "8b1a744d"
      },
      "outputs": [],
      "source": [
        "spell_correction.head()#viewing the top 5 datapoint"
      ]
    },
    {
      "cell_type": "markdown",
      "id": "0801e7d7",
      "metadata": {
        "id": "0801e7d7"
      },
      "source": [
        "# Task 3"
      ]
    },
    {
      "cell_type": "code",
      "execution_count": null,
      "id": "3e2a4a9b",
      "metadata": {
        "scrolled": true,
        "id": "3e2a4a9b"
      },
      "outputs": [],
      "source": [
        "import docx2txt#library\n",
        "from sklearn.feature_extraction.text import CountVectorizer#library \n",
        "from sklearn.metrics.pairwise import cosine_similarity#library\n",
        "\n",
        "job_description=docx2txt.process(\"C:/Users/hp/Desktop/DataScience/Guvi_task/Task_8/Job_description.docx\")\n",
        "\n",
        "resume=docx2txt.process(\"C:/Users/hp/Desktop/DataScience/Guvi_task/Task_8/Nithish S.docx\")\n",
        "\n",
        "content=[job_description,resume]#convert the text to a list\n",
        "\n",
        "cv=CountVectorizer()#countvectorizer convert text to numerical\n",
        "\n",
        "matrix=cv.fit_transform(content)\n",
        "\n",
        "similarity=cosine_similarity(matrix)#cosine similarity between the job description and your resume\n",
        "\n",
        "print(\"Resume match :{} %\".format(round(similarity[1][0]*100)))"
      ]
    },
    {
      "cell_type": "markdown",
      "id": "49c2d193",
      "metadata": {
        "id": "49c2d193"
      },
      "source": [
        "# Task 4"
      ]
    },
    {
      "cell_type": "markdown",
      "id": "677ab699",
      "metadata": {
        "id": "677ab699"
      },
      "source": [
        "### Details collected from : Customer Name, Mobile Number, Address, ID proof, and Room Type and date of arrival and departure date. Keep some eligibility to Book the Room .All through voice to text classifications\n"
      ]
    },
    {
      "cell_type": "code",
      "execution_count": null,
      "id": "7bba352a",
      "metadata": {
        "id": "7bba352a"
      },
      "outputs": [],
      "source": [
        "import speech_recognition as sr#library\n",
        "#function for voice to text \n",
        "def speech():\n",
        "    r=sr.Recognizer()\n",
        "    with sr.Microphone() as source:\n",
        "        audio=r.listen(source)\n",
        "        try:\n",
        "            t=r.recognize_google(audio)\n",
        "            return t\n",
        "        except:\n",
        "             return None"
      ]
    },
    {
      "cell_type": "code",
      "execution_count": null,
      "id": "8f5113b6",
      "metadata": {
        "id": "8f5113b6"
      },
      "outputs": [],
      "source": [
        "# Import the required module for text\n",
        "# to speech conversion\n",
        "from gtts import gTTS\n",
        "\n",
        "# This module is imported so that we can\n",
        "# play the converted audio\n",
        "import os\n",
        "def audio(mytext):\n",
        "    # Language in which you want to convert\n",
        "    language = 'en'\n",
        "    # Passing the text and language to the engine,\n",
        "    # here we have marked slow=False. Which tells\n",
        "    # the module that the converted audio should\n",
        "    # have a high speed\n",
        "    myobj = gTTS(text=mytext, lang=language, slow=False)\n",
        "    return myobj"
      ]
    },
    {
      "cell_type": "code",
      "execution_count": null,
      "id": "278b9b59",
      "metadata": {
        "id": "278b9b59"
      },
      "outputs": [],
      "source": [
        "#function for criteria match\n",
        "def criteria(member):\n",
        "    if int(member)<=3:\n",
        "        mytext=\"Need to check for the villa but 1,2,3 BHK are available sir\\madam\"\n",
        "        myobj=audio(mytext)\n",
        "        myobj.save(\"4.mp3\")\n",
        "        os.system(\"4.mp3\")\n",
        "    elif ((int(member)>=3) | (int(member)<=10)):\n",
        "        mytext=\" Need to check for the villa but 1,2,3 BHK are available sir\\madam\"\n",
        "        myobj=audio(mytext)\n",
        "        myobj.save(\"5.mp3\")\n",
        "        os.system(\"5.mp3\")\n",
        "    else:\n",
        "        mytext=\" Villa is available and 1,2,3 BHK is not available sir\\madam\"\n",
        "        myobj=audio(mytext)\n",
        "        myobj.save(\"6.mp3\")\n",
        "        os.system(\"6.mp3\")"
      ]
    },
    {
      "cell_type": "code",
      "execution_count": null,
      "id": "a6907fd1",
      "metadata": {
        "id": "a6907fd1"
      },
      "outputs": [],
      "source": [
        "#main function\n",
        "#code for name function\n",
        "mytext=\"Welcome to Wave Hotel, and myself Diya and May i know your good name sir or madam\"\n",
        "myobj=audio(mytext)\n",
        "myobj.save(\"welcome.mp3\")\n",
        "os.system(\"welcome.mp3\")\n",
        "name=speech()\n",
        "#code for phone number\n",
        "mytext=\"Nice Name sir or madam can you please say the 10 digit Phone Number\"\n",
        "myobj=audio(mytext)\n",
        "myobj.save(\"phonenumber.mp3\")\n",
        "os.system(\"phonenumber.mp3\")\n",
        "phone_number=speech()\n",
        "#code for address\n",
        "mytext= \"Please provide the Address(City name)\"\n",
        "myobj=audio(mytext)\n",
        "myobj.save(\"address.mp3\")\n",
        "os.system(\"address.mp3\")\n",
        "address=speech()\n",
        "#code for id_proof\n",
        "mytext=\"Please share Aadhar number or any id proof for verification\"\n",
        "myobj=audio(mytext)\n",
        "myobj.save(\"proof.mp3\")\n",
        "os.system(\"proof.mp3\")\n",
        "id_proof=speech()\n",
        "#code for room_type\n",
        "mytext=\"What kind of room are you looking sir/madam We have 1BHK or 2BHK or 3BHK or Villa are available\"\n",
        "myobj=audio(mytext)\n",
        "myobj.save(\"room.mp3\")\n",
        "os.system(\"room.mp3\")\n",
        "room_type=speech()\n",
        "#code for arrival date\n",
        "mytext=\"Arrival Date sir/madam like if its 24\\02\\2022 means say '24Feb' like this\"\n",
        "myobj=audio(mytext)\n",
        "myobj.save(\"arrivaldate.mp3\")\n",
        "os.system(\"arrivaldate.mp3\")\n",
        "date=speech()\n",
        "#code for group of member\n",
        "mytext=\" Member coming sir/madam\"\n",
        "myobj=audio(mytext)\n",
        "myobj.save(\"member.mp3\")\n",
        "os.system(\"member.mp3\")\n",
        "Member=speech()\n",
        "#code for depature date\n",
        "mytext=\" Depature Date sir/madam like if its 28\\02\\2022 means say '28Feb' like this\"\n",
        "myobj=audio(mytext)\n",
        "myobj.save(\"depaturedate.mp3\")\n",
        "os.system(\"depaturedate.mp3\")\n",
        "depature_date=speech()\n",
        "#criteria check\n",
        "criteria(member)\n",
        "#final segment for confirmation ogf booking\n",
        "mytext=\"To confirm the booking please press 1 or want to wait for the room press 2 or any queries please press any\"\n",
        "myobj=audio(mytext)\n",
        "myobj.save(\"booking.mp3\")\n",
        "os.system(\"booking.mp3\")\n",
        "a=input(\"To confirm the booking please press 1 or want to wait for the room press 2 or any queries please press any:\")\n",
        "if a==\"1\":\n",
        "    mytext=\"Thanks for Booking Happy vacation\\n Thank you please visit again\"\n",
        "    myobj=audio(mytext)\n",
        "    myobj.save(\"1.mp3\")\n",
        "    os.system(\"1.mp3\")\n",
        "elif a==\"2\":\n",
        "    mytext=\"We are extremly sorry for this and we hope the waiting will be sort out quickly \\nThank you please visit again\"\n",
        "    myobj=audio(mytext)\n",
        "    myobj.save(\"2.mp3\")\n",
        "    os.system(\"2.mp3\")\n",
        "else:\n",
        "    mytext=\"Please contact xyz@xyz.com for queries or please contact xxxxxxxxxx for any queries \\n Thank you please visit again\"\n",
        "    myobj=audio(mytext)\n",
        "    myobj.save(\"3.mp3\")\n",
        "    os.system(\"3.mp3\")"
      ]
    },
    {
      "cell_type": "markdown",
      "id": "835116dc",
      "metadata": {
        "id": "835116dc"
      },
      "source": [
        "# Conclusion"
      ]
    },
    {
      "cell_type": "markdown",
      "id": "2aac41a1",
      "metadata": {
        "id": "2aac41a1"
      },
      "source": [
        "### The criteria is only based on the group of people and the hotel management is made by voice to text format"
      ]
    },
    {
      "cell_type": "code",
      "execution_count": null,
      "id": "3b9fddba",
      "metadata": {
        "id": "3b9fddba"
      },
      "outputs": [],
      "source": []
    },
    {
      "cell_type": "code",
      "execution_count": null,
      "id": "4b32c7a4",
      "metadata": {
        "id": "4b32c7a4"
      },
      "outputs": [],
      "source": []
    }
  ],
  "metadata": {
    "kernelspec": {
      "display_name": "Python 3 (ipykernel)",
      "language": "python",
      "name": "python3"
    },
    "language_info": {
      "codemirror_mode": {
        "name": "ipython",
        "version": 3
      },
      "file_extension": ".py",
      "mimetype": "text/x-python",
      "name": "python",
      "nbconvert_exporter": "python",
      "pygments_lexer": "ipython3",
      "version": "3.9.12"
    },
    "colab": {
      "provenance": [],
      "include_colab_link": true
    }
  },
  "nbformat": 4,
  "nbformat_minor": 5
}